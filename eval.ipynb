{
 "cells": [
  {
   "cell_type": "code",
   "execution_count": 1,
   "id": "a85961e0",
   "metadata": {},
   "outputs": [
    {
     "name": "stdout",
     "output_type": "stream",
     "text": [
      "BLEU score -> 1.2213386697554703e-77\n",
      "BLEU score -> 1.0270193092081295e-77\n"
     ]
    },
    {
     "name": "stderr",
     "output_type": "stream",
     "text": [
      "/opt/miniconda3/envs/torch/lib/python3.11/site-packages/nltk/translate/bleu_score.py:552: UserWarning: \n",
      "The hypothesis contains 0 counts of 4-gram overlaps.\n",
      "Therefore the BLEU score evaluates to 0, independently of\n",
      "how many N-gram overlaps of lower order it contains.\n",
      "Consider using lower n-gram order or use SmoothingFunction()\n",
      "  warnings.warn(_msg)\n"
     ]
    }
   ],
   "source": [
    "from nltk.translate.bleu_score import sentence_bleu\n",
    "\n",
    "reference = [\n",
    "    'this is a dog'.split(),\n",
    "    'it is dog'.split(),\n",
    "    'dog it is'.split(),\n",
    "    'a dog, it is'.split() \n",
    "]\n",
    "candidate = 'it is dog'.split()\n",
    "print('BLEU score -> {}'.format(sentence_bleu(reference, candidate )))\n",
    "\n",
    "candidate = 'it is a dog'.split()\n",
    "print('BLEU score -> {}'.format(sentence_bleu(reference, candidate)))"
   ]
  },
  {
   "cell_type": "code",
   "execution_count": 5,
   "id": "9079d08d",
   "metadata": {},
   "outputs": [
    {
     "name": "stdout",
     "output_type": "stream",
     "text": [
      "47\n",
      "['issl-Dörfler,', 'Mrs', 'Lienemann,', 'Mrs', 'Lucas,', 'Mrs', 'McKenna,', 'Mrs', 'Maes,', 'Mr', 'Martínez', 'Martínez,', 'Mr', 'Papayannakis,', 'Mrs', 'Patrie,', 'Mr', 'Arvidsson,', 'Mr', 'Puerta,', 'Mr', 'Ries,', 'Mr', 'Rod,', 'Mr', 'de', 'Roo,', 'Mrs', 'Sandbæk,', 'Mrs', 'Schroedter,', 'Mrs', 'Sornosa', 'Martínez,', 'Mr', 'Staes,', 'Mr', 'Sterckx,', 'Mrs', 'Terrón', 'i', 'C']\n",
      "['issl-Dörfler,', 'Mrs', 'Lienemann,', 'Mrs', 'Lucas,', 'Mrs', 'McKenna,', 'Mrs', 'Maes,', 'Mr', 'Martínez', 'Martínez,', 'Mr', 'Papayannakis,', 'Mrs', 'Patrie,', 'Mr', 'Arvidsson,', 'Mr', 'Stenning,', 'Mr', 'Stenningen', '&', 'Co.,', 'and', 'Mrs', 'Stenningen,', 'and', 'Mr', 'Stenningen,', 'and', 'Mr', 'Stenningen,', 'and', 'all', 'persons,', 'whether', 'they', 'or', 'not', 'are', 'the', 'legal', 'representatives,', 'in', 'fact,', 'who']\n",
      "BLEU score -> 0.40272824664370144\n"
     ]
    }
   ],
   "source": [
    "json_obj = {\"exid\": 0, \"text\": \"issl-Dörfler, Mrs Lienemann, Mrs Lucas, Mrs McKenna, Mrs Maes, Mr Martínez Martínez, Mr Papayannakis, Mrs Patrie, Mr Arvidsson, Mr Stenning, Mr Stenningen & Co., and Mrs Stenningen, and Mr Stenningen, and Mr Stenningen, and all persons, whether they or not are the legal representatives, in fact, who\"}\n",
    "sentence = json_obj['text'].split()\n",
    "\n",
    "suf_obj = {\"exid\": 0, \"text\": \"Puerta, Mr Ries, Mr Rod, Mr de Roo, Mrs Sandbæk, Mrs Schroedter, Mrs Sornosa Martínez, Mr Staes, Mr Sterckx, Mrs Terrón i C\"}\n",
    "suffix = suf_obj['text'].split()\n",
    "\n",
    "pref_obj = {\"exid\": 0, \"text\": \"issl-Dörfler, Mrs Lienemann, Mrs Lucas, Mrs McKenna, Mrs Maes, Mr Martínez Martínez, Mr Papayannakis, Mrs Patrie, Mr Arvidsson, Mr\"}\n",
    "prefix = pref_obj['text'].split()\n",
    "\n",
    "print(len(sentence))\n",
    "\n",
    "reference = prefix + suffix\n",
    "print(reference)\n",
    "print(sentence)\n",
    "\n",
    "print('BLEU score -> {}'.format(sentence_bleu([reference], sentence)))"
   ]
  }
 ],
 "metadata": {
  "kernelspec": {
   "display_name": "Python 3.11 (torch)",
   "language": "python",
   "name": "pytorch"
  },
  "language_info": {
   "codemirror_mode": {
    "name": "ipython",
    "version": 3
   },
   "file_extension": ".py",
   "mimetype": "text/x-python",
   "name": "python",
   "nbconvert_exporter": "python",
   "pygments_lexer": "ipython3",
   "version": "3.11.9"
  }
 },
 "nbformat": 4,
 "nbformat_minor": 5
}
