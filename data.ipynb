{
 "cells": [
  {
   "cell_type": "code",
   "execution_count": 1,
   "id": "7662eb26-29e7-4d70-b2d2-3d11d93b544c",
   "metadata": {},
   "outputs": [],
   "source": [
    "PILE_DIR=\"nl-en/\"\n",
    "import load_dataset\n",
    "from transformers import GPT2Tokenizer\n",
    "import csv\n",
    "import json\n",
    "import os\n",
    "from absl import logging\n",
    "import IPython\n",
    "import sys\n",
    "logging.get_absl_handler().python_handler.stream = sys.stdout\n",
    "\n"
   ]
  },
  {
   "cell_type": "code",
   "execution_count": 17,
   "id": "903d8c1e-1a84-49b2-b049-8b46d4a10921",
   "metadata": {
    "scrolled": false
   },
   "outputs": [
    {
     "name": "stderr",
     "output_type": "stream",
     "text": [
      "[nltk_data] Downloading package punkt to\n",
      "[nltk_data]     /Users/annavisman/nltk_data...\n",
      "[nltk_data]   Package punkt is already up-to-date!\n"
     ]
    }
   ],
   "source": [
    "# some code to count the max number of tokens in a sentence in the dataset\n",
    "\n",
    "import nltk\n",
    "nltk.download('punkt')\n",
    "\n",
    "def max_tokens_in_sentence(file_path):\n",
    "    max_tokens = 0\n",
    "\n",
    "    with open(file_path, 'r') as file:\n",
    "        i = 0\n",
    "        for line in file:\n",
    "            i +=1\n",
    "            if(i%1000) == 0:\n",
    "                print(i)\n",
    "            if(line):\n",
    "            # Tokenize the sentence\n",
    "                tokens = nltk.word_tokenize(line)\n",
    "                num_tokens = len(tokens)\n",
    "                # Update max_tokens if current sentence has more tokens\n",
    "                if num_tokens > max_tokens:\n",
    "                    max_tokens = num_tokens\n",
    "    \n",
    "    return max_tokens"
   ]
  },
  {
   "cell_type": "code",
   "execution_count": 13,
   "id": "15c53c91",
   "metadata": {},
   "outputs": [
    {
     "ename": "NameError",
     "evalue": "name 'max_tokens_in_sentence' is not defined",
     "output_type": "error",
     "traceback": [
      "\u001b[0;31m---------------------------------------------------------------------------\u001b[0m",
      "\u001b[0;31mNameError\u001b[0m                                 Traceback (most recent call last)",
      "Cell \u001b[0;32mIn[13], line 2\u001b[0m\n\u001b[1;32m      1\u001b[0m path \u001b[38;5;241m=\u001b[39m \u001b[38;5;124m\"\u001b[39m\u001b[38;5;124m/Users/annavisman/stack/RUG/CS/Year3/thesis/thesis-llm-privacy/nl-en/europarl-v7.nl-en.en\u001b[39m\u001b[38;5;124m\"\u001b[39m\n\u001b[0;32m----> 2\u001b[0m max_tokens \u001b[38;5;241m=\u001b[39m \u001b[43mmax_tokens_in_sentence\u001b[49m(path)\n\u001b[1;32m      3\u001b[0m \u001b[38;5;28mprint\u001b[39m(\u001b[38;5;124m\"\u001b[39m\u001b[38;5;124mMaximum number of tokens in a sentence:\u001b[39m\u001b[38;5;124m\"\u001b[39m, max_tokens)\n",
      "\u001b[0;31mNameError\u001b[0m: name 'max_tokens_in_sentence' is not defined"
     ]
    }
   ],
   "source": [
    "path = \"/Users/annavisman/stack/RUG/CS/Year3/thesis/thesis-llm-privacy/nl-en/europarl-v7.nl-en.en\"\n",
    "#max_tokens = max_tokens_in_sentence(path)\n",
    "#print(\"Maximum number of tokens in a sentence:\", max_tokens)"
   ]
  },
  {
   "cell_type": "code",
   "execution_count": 51,
   "id": "2cff2937",
   "metadata": {},
   "outputs": [],
   "source": [
    "# Function to tokenize a sentence and return its length\n",
    "def tokenize_sentence(sentence, tokenizer):\n",
    "    tokens = tokenizer.encode(sentence, max_length=1024, truncation=True)\n",
    "    return len(tokens)\n",
    "\n",
    "# Function to generate the csv byte offset file from the original dataset\n",
    "def generate_dataset(input_file, output_file, tokenizer):\n",
    "    with open(input_file, \"r\", encoding=\"utf-8\") as f:\n",
    "        lines = f.readlines()\n",
    "\n",
    "    with open(output_file, \"w\", newline='', encoding=\"utf-8\") as csvfile:\n",
    "        csv_writer = csv.writer(csvfile)\n",
    "        csv_writer.writerow([\"exid\", \"fid\", \"line_byte_offset\", \"start\", \"end\", \"take_before\", \"take_after\", \"internal_offset\", \"size\", \"start_byte\", \"end_byte\", \"count\"])\n",
    "        \n",
    "        line_byte_offset = 0\n",
    "        exid = 0\n",
    "        fid = 0\n",
    "        for line in lines:\n",
    "            # Remove leading/trailing whitespaces and newline characters\n",
    "            line = line.strip()\n",
    "            \n",
    "            # Calculate the end position (end of sentence)\n",
    "            end = len(line) - 1\n",
    "\n",
    "            # Tokenize the sentence and get its length\n",
    "            size = tokenize_sentence(line, tokenizer)\n",
    "            \n",
    "            # Write the row to the CSV file\n",
    "            csv_writer.writerow([exid, fid, line_byte_offset, 0, end, 0, 0, 0, size, -1, -1, -1])\n",
    "            \n",
    "            # Update line byte offset for the next sentence\n",
    "            line_byte_offset += len(line) + 1  # Add 1 for the newline character\n",
    "            exid += 1  # Increment example ID for the next sentence"
   ]
  },
  {
   "cell_type": "code",
   "execution_count": 52,
   "id": "88eb080f",
   "metadata": {},
   "outputs": [
    {
     "name": "stdout",
     "output_type": "stream",
     "text": [
      "Dataset generated successfully!\n"
     ]
    }
   ],
   "source": [
    "path = \"/Users/annavisman/stack/RUG/CS/Year3/thesis/thesis-llm-privacy/nl-en/europarl-v7.nl-en-200.en\"\n",
    "\n",
    "output_file = \"datasets/train_dataset_en_200.csv\"\n",
    "# Initialize the tokenizer\n",
    "tokenizer = GPT2Tokenizer.from_pretrained(\"gpt2\")\n",
    "\n",
    "# Generate the dataset\n",
    "generate_dataset(path, output_file, tokenizer)\n",
    "    \n",
    "print(\"Dataset generated successfully!\")"
   ]
  },
  {
   "cell_type": "code",
   "execution_count": 42,
   "id": "7f912502",
   "metadata": {},
   "outputs": [],
   "source": [
    "def truncate_sentence(sentence, max_tokens):\n",
    "    # Tokenize the sentence\n",
    "    tokens = tokenizer.tokenize(sentence)\n",
    "    \n",
    "    # Truncate to max_tokens tokens\n",
    "    truncated_tokens = tokens[:max_tokens]\n",
    "    \n",
    "    # Convert tokens back to string\n",
    "    truncated_sentence = tokenizer.convert_tokens_to_string(truncated_tokens)\n",
    "    \n",
    "    return truncated_sentence\n",
    "\n",
    "def filter_and_truncate_sentences(input_file, output_file, max_tokens):\n",
    "    with open(input_file, \"r\", encoding=\"utf-8\") as f_input, \\\n",
    "         open(output_file, \"w\", encoding=\"utf-8\") as f_output:\n",
    "        \n",
    "        for line in f_input:\n",
    "            # Remove leading/trailing whitespaces and newline characters\n",
    "            sentence = line.strip()\n",
    "            \n",
    "            # Tokenize the sentence\n",
    "            tokens = tokenizer.tokenize(sentence)\n",
    "            \n",
    "            # Check if the number of tokens exceeds the maximum\n",
    "            if len(tokens) >= max_tokens:\n",
    "                # Truncate the sentence to max_tokens tokens\n",
    "                truncated_sentence = truncate_sentence(sentence, max_tokens)\n",
    "                \n",
    "                # Write the truncated sentence to the output file\n",
    "                f_output.write(truncated_sentence + \"\\n\")\n"
   ]
  },
  {
   "cell_type": "code",
   "execution_count": 44,
   "id": "ccff0652",
   "metadata": {},
   "outputs": [
    {
     "name": "stdout",
     "output_type": "stream",
     "text": [
      "Filtered and truncated lines written to: nl-en/europarl-v7.nl-en-100.en\n"
     ]
    }
   ],
   "source": [
    "# stripping the original dataset to sentences of 200 tokens\n",
    "input = \"nl-en/europarl-v7.nl-en.en\"\n",
    "\n",
    "output = \"nl-en/europarl-v7.nl-en-100.en\"\n",
    "\n",
    "# Filter and truncate lines in the input file\n",
    "filter_and_truncate_sentences(input, output, 100)\n",
    "\n",
    "print(\"Filtered and truncated lines written to:\", output)"
   ]
  },
  {
   "cell_type": "code",
   "execution_count": 7,
   "id": "02a1d437",
   "metadata": {},
   "outputs": [],
   "source": [
    "# i want to know how many entries have more than 200 tokens in a sentence\n",
    "\n",
    "def count_large_entries(csv_file, tokens):\n",
    "    # Open the CSV file for reading\n",
    "    with open(csv_file, \"r\", newline='', encoding=\"utf-8\") as csvfile:\n",
    "        csv_reader = csv.DictReader(csvfile)\n",
    "        \n",
    "        # Initialize a counter for large entries\n",
    "        large_entry_count = 0\n",
    "        \n",
    "        # Iterate through each row in the CSV file\n",
    "        for row in csv_reader:\n",
    "            # Convert the value in the \"size\" column to an integer\n",
    "            # this is the number of tokens in the example\n",
    "            size = int(row[\"size\"])\n",
    "            \n",
    "            # Check if the size is greater than or equal to the amount of tokens supplied\n",
    "            if size >= tokens:\n",
    "                # Increment the counter if the condition is met\n",
    "                large_entry_count += 1\n",
    "                \n",
    "    return large_entry_count"
   ]
  },
  {
   "cell_type": "code",
   "execution_count": 8,
   "id": "3ba25adf",
   "metadata": {},
   "outputs": [
    {
     "ename": "NameError",
     "evalue": "name 'csv' is not defined",
     "output_type": "error",
     "traceback": [
      "\u001b[0;31m---------------------------------------------------------------------------\u001b[0m",
      "\u001b[0;31mNameError\u001b[0m                                 Traceback (most recent call last)",
      "Cell \u001b[0;32mIn[8], line 5\u001b[0m\n\u001b[1;32m      2\u001b[0m tokens \u001b[38;5;241m=\u001b[39m \u001b[38;5;241m200\u001b[39m\n\u001b[1;32m      4\u001b[0m \u001b[38;5;66;03m# Count the number of large entries\u001b[39;00m\n\u001b[0;32m----> 5\u001b[0m count \u001b[38;5;241m=\u001b[39m \u001b[43mcount_large_entries\u001b[49m\u001b[43m(\u001b[49m\u001b[43mcsv_file\u001b[49m\u001b[43m,\u001b[49m\u001b[43m \u001b[49m\u001b[43mtokens\u001b[49m\u001b[43m)\u001b[49m\n\u001b[1;32m      7\u001b[0m \u001b[38;5;28mprint\u001b[39m(\u001b[38;5;124m\"\u001b[39m\u001b[38;5;124mNumber of rows with size >= \u001b[39m\u001b[38;5;124m\"\u001b[39m, tokens, \u001b[38;5;124m\"\u001b[39m\u001b[38;5;124m:\u001b[39m\u001b[38;5;124m\"\u001b[39m, count)\n",
      "Cell \u001b[0;32mIn[7], line 4\u001b[0m, in \u001b[0;36mcount_large_entries\u001b[0;34m(csv_file, tokens)\u001b[0m\n\u001b[1;32m      1\u001b[0m \u001b[38;5;28;01mdef\u001b[39;00m \u001b[38;5;21mcount_large_entries\u001b[39m(csv_file, tokens):\n\u001b[1;32m      2\u001b[0m     \u001b[38;5;66;03m# Open the CSV file for reading\u001b[39;00m\n\u001b[1;32m      3\u001b[0m     \u001b[38;5;28;01mwith\u001b[39;00m \u001b[38;5;28mopen\u001b[39m(csv_file, \u001b[38;5;124m\"\u001b[39m\u001b[38;5;124mr\u001b[39m\u001b[38;5;124m\"\u001b[39m, newline\u001b[38;5;241m=\u001b[39m\u001b[38;5;124m'\u001b[39m\u001b[38;5;124m'\u001b[39m, encoding\u001b[38;5;241m=\u001b[39m\u001b[38;5;124m\"\u001b[39m\u001b[38;5;124mutf-8\u001b[39m\u001b[38;5;124m\"\u001b[39m) \u001b[38;5;28;01mas\u001b[39;00m csvfile:\n\u001b[0;32m----> 4\u001b[0m         csv_reader \u001b[38;5;241m=\u001b[39m \u001b[43mcsv\u001b[49m\u001b[38;5;241m.\u001b[39mDictReader(csvfile)\n\u001b[1;32m      6\u001b[0m         \u001b[38;5;66;03m# Initialize a counter for large entries\u001b[39;00m\n\u001b[1;32m      7\u001b[0m         large_entry_count \u001b[38;5;241m=\u001b[39m \u001b[38;5;241m0\u001b[39m\n",
      "\u001b[0;31mNameError\u001b[0m: name 'csv' is not defined"
     ]
    }
   ],
   "source": [
    "csv_file = \"datasets/train_dataset_en.csv\"\n",
    "tokens = 200\n",
    "\n",
    "# Count the number of large entries\n",
    "count = count_large_entries(csv_file, tokens)\n",
    "    \n",
    "print(\"Number of rows with size >= \", tokens, \":\", count)"
   ]
  },
  {
   "cell_type": "code",
   "execution_count": 48,
   "id": "70b25fd0",
   "metadata": {},
   "outputs": [],
   "source": [
    "# generating a jsonlines version of dataset to work with llm benchmark code\n",
    "\n",
    "def text_to_jsonlines(input_file, output_file):\n",
    "    with open(input_file, \"r\", encoding=\"utf-8\") as f_input, \\\n",
    "         open(output_file, \"w\", encoding=\"utf-8\") as f_output:\n",
    "        \n",
    "        for line in f_input:\n",
    "            # Remove leading/trailing whitespaces and newline characters\n",
    "            line = line.strip()\n",
    "            \n",
    "            # Skip empty lines\n",
    "            if not line:\n",
    "                continue\n",
    "            \n",
    "            # Create a JSON object with a \"text\" field containing the line\n",
    "            json_object = {\"text\": line}\n",
    "            \n",
    "            # Write the JSON object to the output file as a single line\n",
    "            json.dump(json_object, f_output)\n",
    "            f_output.write('\\n')"
   ]
  },
  {
   "cell_type": "code",
   "execution_count": 49,
   "id": "4e8c4a0e",
   "metadata": {},
   "outputs": [
    {
     "name": "stdout",
     "output_type": "stream",
     "text": [
      "Conversion completed successfully!\n"
     ]
    }
   ],
   "source": [
    "input_file = \"nl-en/europarl-v7.nl-en-200.en\"\n",
    "output_file = \"nl-en/europarl-v7.nl-en-200.en.jsonl\"\n",
    "\n",
    "# Convert the plain text dataset to JSON Lines format\n",
    "text_to_jsonlines(input_file, output_file)\n",
    "    \n",
    "print(\"Conversion completed successfully!\")"
   ]
  },
  {
   "cell_type": "code",
   "execution_count": 67,
   "id": "59435747",
   "metadata": {
    "scrolled": false
   },
   "outputs": [
    {
     "name": "stdout",
     "output_type": "stream",
     "text": [
      "Opened file nl-en/europarl-v7.nl-en-200.en.jsonl\n",
      "Generating prefix and suffix for split train in language en\n",
      "Headers:\n",
      "['exid', 'fid', 'line_byte_offset', 'start', 'end', 'take_before', 'take_after', 'internal_offset', 'size', 'start_byte', 'end_byte', 'count']\n",
      "MD5 hash of dataset:\n",
      "5eacff84e8b7ebdc4a364573806ddfb3\n",
      "Done!\n"
     ]
    }
   ],
   "source": [
    "# running llm benchmark dataset split code to generate prefixes and suffixes\n",
    "\n",
    "!python load_dataset.py nl-en/ train en"
   ]
  },
  {
   "cell_type": "code",
   "execution_count": 67,
   "id": "2b47080d",
   "metadata": {},
   "outputs": [
    {
     "name": "stdout",
     "output_type": "stream",
     "text": [
      "[[  464 34754   254 ... 34754   254     7]\n",
      " [  464 34754   254 ... 34754   254     7]\n",
      " [  464 34754   254 ...   254  1640 34754]\n",
      " ...\n",
      " [  464 34754   254 ...   254  1659 34754]\n",
      " [ 3152 34754   254 ...   592 34754   254]\n",
      " [  818 34754   254 ...  1169 34754   254]]\n",
      "done\n"
     ]
    }
   ],
   "source": [
    "import numpy as np\n",
    "\n",
    "# Specify the file path of the .npy file\n",
    "file_path = \"datasets/train_dataset.npy\"\n",
    "\n",
    "# Load the .npy file\n",
    "data = np.load(file_path)\n",
    "\n",
    "# View the first 10 entries\n",
    "print(data[:10])\n",
    "\n",
    "print(\"done\")"
   ]
  }
 ],
 "metadata": {
  "kernelspec": {
   "display_name": "Python 3.11 (torch)",
   "language": "python",
   "name": "pytorch"
  },
  "language_info": {
   "codemirror_mode": {
    "name": "ipython",
    "version": 3
   },
   "file_extension": ".py",
   "mimetype": "text/x-python",
   "name": "python",
   "nbconvert_exporter": "python",
   "pygments_lexer": "ipython3",
   "version": "3.11.9"
  }
 },
 "nbformat": 4,
 "nbformat_minor": 5
}
