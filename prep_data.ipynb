{
 "cells": [
  {
   "cell_type": "code",
   "execution_count": 67,
   "metadata": {},
   "outputs": [],
   "source": [
    "# imports\n",
    "from transformers import GPT2Tokenizer\n",
    "import csv\n",
    "import json\n",
    "import os\n",
    "import nltk\n",
    "import numpy as np"
   ]
  },
  {
   "cell_type": "code",
   "execution_count": 101,
   "metadata": {},
   "outputs": [],
   "source": [
    "# define dataset constants\n",
    "\n",
    "# path to the (pretraining) dataset of the model\n",
    "DATASET_DIR = \"nl-en/\"\n",
    "# file name of text version of the dataset\n",
    "DATASET_NAME = \"europarl-v7.nl-en\"\n",
    "# language of the setup\n",
    "LANGUAGE = \"nl\"\n",
    "# target directory for the csv files\n",
    "TARGET_DIR = \"./datasets/csv\"\n",
    "# desired token length of examples\n",
    "TOKEN_LENGTH = 200\n",
    "# target file name for the byte off set csv files\n",
    "BYTE_OFFSET_FILE = DATASET_NAME + \".\" + LANGUAGE + \".csv\"\n",
    "\n",
    "tokenizer = GPT2Tokenizer.from_pretrained(\"gpt2\")\n",
    "byte_offset_base = os.path.join(TARGET_DIR, BYTE_OFFSET_FILE)"
   ]
  },
  {
   "cell_type": "code",
   "execution_count": 102,
   "metadata": {},
   "outputs": [],
   "source": [
    "# create data_config.json from constants\n",
    "\n",
    "config = {\n",
    "    \"dataset_dir\": DATASET_DIR,\n",
    "    \"dataset_name\": DATASET_NAME,\n",
    "    \"language\": LANGUAGE,\n",
    "    \"token_length\": TOKEN_LENGTH,\n",
    "    \"target_dir\": TARGET_DIR,\n",
    "    \"byte_offset_file\": BYTE_OFFSET_FILE\n",
    "}\n",
    "\n",
    "with open(\"data_config.json\", \"w\") as f:\n",
    "    json.dump(config, f, indent=4)"
   ]
  },
  {
   "cell_type": "code",
   "execution_count": 69,
   "metadata": {},
   "outputs": [],
   "source": [
    "# data set inspection functions\n",
    "\n",
    "# function to count the longest token sequence in a dataset file \n",
    "def max_tokens_in_sentence(file_path):\n",
    "    max_tokens = 0\n",
    "\n",
    "    print(\"Counting max tokens in file: \", file_path)\n",
    "    print(\"This may take a while...\")\n",
    "    with open(file_path, 'r') as file:\n",
    "        i = 0\n",
    "        for line in file:\n",
    "            i +=1\n",
    "            if(line):\n",
    "            # Tokenize the sentence\n",
    "                tokens = nltk.word_tokenize(line)\n",
    "                num_tokens = len(tokens)\n",
    "                # Update max_tokens if current sentence has more tokens\n",
    "                if num_tokens > max_tokens:\n",
    "                    max_tokens = num_tokens\n",
    "    \n",
    "        print(\"Max tokens in file: \", max_tokens)\n",
    "    return max_tokens\n",
    "\n",
    "# function to count the number of examples in a dataset file with more tokens than a given threshold\n",
    "def count_large_entries(csv_file, tokens):\n",
    "    # Open the CSV file for reading\n",
    "    with open(csv_file, \"r\", newline='', encoding=\"utf-8\") as csvfile:\n",
    "        csv_reader = csv.DictReader(csvfile)\n",
    "        \n",
    "        # Initialize a counter for large entries\n",
    "        large_entry_count = 0\n",
    "        \n",
    "        # Iterate through each row in the CSV file\n",
    "        for row in csv_reader:\n",
    "            # Convert the value in the \"size\" column to an integer\n",
    "            # this is the number of tokens in the example\n",
    "            size = int(row[\"size\"])\n",
    "            \n",
    "            # Check if the size is greater than or equal to the amount of tokens supplied\n",
    "            if size >= tokens:\n",
    "                # Increment the counter if the condition is met\n",
    "                large_entry_count += 1\n",
    "                \n",
    "    return large_entry_count"
   ]
  },
  {
   "cell_type": "code",
   "execution_count": 65,
   "metadata": {},
   "outputs": [],
   "source": [
    "# dataset generation functions\n",
    "\n",
    "def truncate_sentence(sentence, max_tokens):\n",
    "    # Tokenize the sentence\n",
    "    tokens = tokenizer.tokenize(sentence)\n",
    "    \n",
    "    # Truncate to max_tokens tokens\n",
    "    truncated_tokens = tokens[:max_tokens]\n",
    "    \n",
    "    # Convert tokens back to string\n",
    "    truncated_sentence = tokenizer.convert_tokens_to_string(truncated_tokens)\n",
    "    \n",
    "    return truncated_sentence\n",
    "\n",
    "def filter_and_truncate_sentences(input_file, output_file, max_tokens):\n",
    "    print(\"Filtering and truncating sentences in file: \", input_file, \" to \", max_tokens, \" tokens\")\n",
    "    \n",
    "    with open(input_file, \"r\", encoding=\"utf-8\") as f_input, \\\n",
    "         open(output_file, \"w\", encoding=\"utf-8\") as f_output:\n",
    "        \n",
    "        for line in f_input:\n",
    "            # Remove leading/trailing whitespaces and newline characters\n",
    "            sentence = line.strip()\n",
    "            \n",
    "            # Tokenize the sentence\n",
    "            tokens = tokenizer.tokenize(sentence)\n",
    "            \n",
    "            # Check if the number of tokens exceeds the maximum\n",
    "            if len(tokens) >= max_tokens:\n",
    "                # Truncate the sentence to max_tokens tokens\n",
    "                truncated_sentence = truncate_sentence(sentence, max_tokens)\n",
    "                \n",
    "                # Write the truncated sentence to the output file\n",
    "                f_output.write(truncated_sentence + \"\\n\")\n",
    "\n",
    "# Function to tokenize a sentence and return its length\n",
    "def tokenize_sentence(sentence, tokenizer):\n",
    "    tokens = tokenizer.encode(sentence, max_length=1024, truncation=True)\n",
    "    return len(tokens)\n",
    "\n",
    "# Function to generate a csv byte offset file from the original dataset\n",
    "# used to work with Carlini code only\n",
    "def generate_byte_dataset(input_file, output_file, tokenizer):\n",
    "    print(\"Generating byte offset dataset from file: \", input_file)\n",
    "    with open(input_file, \"r\", encoding=\"utf-8\") as f:\n",
    "        lines = f.readlines()\n",
    "\n",
    "    with open(output_file, \"w\", newline='', encoding=\"utf-8\") as csvfile:\n",
    "        csv_writer = csv.writer(csvfile)\n",
    "        csv_writer.writerow([\"exid\", \"fid\", \"line_byte_offset\", \"start\", \"end\", \"take_before\", \"take_after\", \"internal_offset\", \"size\", \"start_byte\", \"end_byte\", \"count\"])\n",
    "        \n",
    "        line_byte_offset = 0\n",
    "        exid = 0\n",
    "        fid = 0\n",
    "        for line in lines:\n",
    "            # Remove leading/trailing whitespaces and newline characters\n",
    "            line = line.strip()\n",
    "            \n",
    "            # Calculate the end position (end of sentence)\n",
    "            end = len(line) - 1\n",
    "\n",
    "            # Tokenize the sentence and get its length\n",
    "            size = tokenize_sentence(line, tokenizer)\n",
    "            \n",
    "            # Write the row to the CSV file\n",
    "            csv_writer.writerow([exid, fid, line_byte_offset, 0, end, 0, 0, 0, size, -1, -1, -1])\n",
    "            \n",
    "            # Update line byte offset for the next sentence\n",
    "            line_byte_offset += len(line) + 1  # Add 1 for the newline character\n",
    "            exid += 1  # Increment example ID for the next sentence\n",
    "\n",
    "\n",
    "# Function to generate a jsonlines version of dataset\n",
    "# input here is a text file\n",
    "def text_to_jsonlines(input_file, output_file):\n",
    "    with open(input_file, \"r\", encoding=\"utf-8\") as f_input, \\\n",
    "         open(output_file, \"w\", encoding=\"utf-8\") as f_output:\n",
    "        id = 0\n",
    "\n",
    "        for line in f_input:\n",
    "            # Remove leading/trailing whitespaces and newline characters\n",
    "            line = line.strip()\n",
    "            \n",
    "            # Skip empty lines\n",
    "            if not line:\n",
    "                continue\n",
    "            \n",
    "            # Create a JSON object with a \"text\" field containing the line\n",
    "            json_object = {\"exid\": id,\n",
    "                           \"text\": line}\n",
    "            \n",
    "            # Write the JSON object to the output file as a single line\n",
    "            json.dump(json_object, f_output, ensure_ascii=False)\n",
    "            f_output.write('\\n')\n",
    "            id += 1\n",
    "\n",
    "# Function to generate a jsonlines version of dataset\n",
    "# input here is a numpy array of tokenized data (using token IDs)\n",
    "def generations_to_jsonl(output_file_path: str, data: np.ndarray):\n",
    "    \"\"\"Converts the tokenized data to a JSONL file at `path`.\"\"\"\n",
    "\n",
    "    with open(output_file_path, \"w\", encoding=\"utf-8\", newline='') as file:\n",
    "        id = 0\n",
    "        for row in data:\n",
    "            # Convert token IDs to strings\n",
    "            # replace token space character with empty string\n",
    "            decoded_string = tokenizer.decode(row, skip_special_tokens=True).replace('Ġ', '')\n",
    "            line = decoded_string.strip()\n",
    "\n",
    "            # Skip empty lines\n",
    "            if not line:\n",
    "                continue\n",
    "\n",
    "            # Create a JSON object with a \"text\" field containing the line\n",
    "            json_object = {\"exid\": id,\n",
    "                           \"text\": line}\n",
    "\n",
    "            # Write the JSON object to the output file as a single line\n",
    "            json.dump(json_object, file, ensure_ascii=False)\n",
    "            file.write(\"\\n\")\n",
    "            id += 1\n",
    "\n",
    "    print(\"Decoded strings saved to: %s\", str(output_file_path))"
   ]
  },
  {
   "cell_type": "code",
   "execution_count": 103,
   "metadata": {},
   "outputs": [
    {
     "name": "stdout",
     "output_type": "stream",
     "text": [
      "Operating on dataset file: nl-en/europarl-v7.nl-en.nl\n"
     ]
    }
   ],
   "source": [
    "# 1. read data_config.json\n",
    "\n",
    "with open(\"data_config.json\", \"r\") as f:\n",
    "    config = json.load(f)\n",
    "    dataset_base = os.path.join(config[\"dataset_dir\"], config[\"dataset_name\"] + \".\" + config[\"language\"])\n",
    "    \n",
    "print(\"Operating on dataset file:\", dataset_base)"
   ]
  },
  {
   "cell_type": "code",
   "execution_count": 77,
   "metadata": {},
   "outputs": [
    {
     "name": "stdout",
     "output_type": "stream",
     "text": [
      "Generating byte offset dataset from file:  nl-en/europarl-v7.nl-en.en\n"
     ]
    }
   ],
   "source": [
    "# 2. Generate a byte offset version of the dataset for inspection purposes\n",
    "generate_byte_dataset(dataset_base, byte_offset_base, tokenizer)"
   ]
  },
  {
   "cell_type": "code",
   "execution_count": 104,
   "metadata": {},
   "outputs": [
    {
     "name": "stdout",
     "output_type": "stream",
     "text": [
      "Number of nl examples with (more than) 200 tokens:  6806\n"
     ]
    }
   ],
   "source": [
    "# 3. Count the longest token sequence in the dataset\n",
    "#max_tokens = max_tokens_in_sentence(dataset_base)\n",
    "\n",
    "# 4. Count the number of examples in the dataset with more tokens than the desired token length\n",
    "large_entries = count_large_entries(byte_offset_base, TOKEN_LENGTH)\n",
    "\n",
    "print(\"Number of\", LANGUAGE ,\"examples with (more than)\", TOKEN_LENGTH, \"tokens: \", large_entries)\n"
   ]
  },
  {
   "cell_type": "code",
   "execution_count": 107,
   "metadata": {},
   "outputs": [
    {
     "name": "stdout",
     "output_type": "stream",
     "text": [
      "JSONL file already exists, skipping generation\n"
     ]
    }
   ],
   "source": [
    "# Generate a jsonlines version of the dataset\n",
    "jsonlines_base = os.path.join(DATASET_DIR, DATASET_NAME + \".\" + LANGUAGE + \".jsonl\")\n",
    "\n",
    "# check if file exists and has content\n",
    "if os.path.exists(jsonlines_base) and os.path.getsize(jsonlines_base) > 0:\n",
    "    print(\"JSONL file already exists, skipping generation\")\n",
    "else: \n",
    "    text_to_jsonlines(dataset_base, jsonlines_base)\n",
    "    print(\"JSONL file saved to: \", jsonlines_base)\n"
   ]
  },
  {
   "cell_type": "code",
   "execution_count": 109,
   "metadata": {},
   "outputs": [
    {
     "name": "stdout",
     "output_type": "stream",
     "text": [
      "Truncating sentences to  200  tokens and saving to  nl-en/europarl-v7.nl-en-200.nl\n",
      "Filtering and truncating sentences in file:  nl-en/europarl-v7.nl-en.nl  to  200  tokens\n"
     ]
    }
   ],
   "source": [
    "# 4. Truncate the sentences in the dataset to the desired token length\n",
    "output_file = os.path.join(config[\"dataset_dir\"], config[\"dataset_name\"] + \"-\" + str(TOKEN_LENGTH) + \".\" + config[\"language\"])\n",
    "\n",
    "print(\"Truncating sentences to \", TOKEN_LENGTH, \" tokens and saving to \", output_file)\n",
    "\n",
    "filter_and_truncate_sentences(dataset_base, output_file, TOKEN_LENGTH)"
   ]
  },
  {
   "cell_type": "code",
   "execution_count": 114,
   "metadata": {},
   "outputs": [
    {
     "name": "stdout",
     "output_type": "stream",
     "text": [
      "JSONL file saved to:  nl-en/europarl-v7.nl-en-200.nl.jsonl\n"
     ]
    }
   ],
   "source": [
    "# 5. Generate a jsonlines file from the truncated dataset\n",
    "jsonlines_base = os.path.join(config[\"dataset_dir\"], config[\"dataset_name\"] +  \"-\" + str(TOKEN_LENGTH) + \".\" + config[\"language\"]+\".jsonl\")\n",
    "\n",
    "# check if file exists and has content\n",
    "if os.path.exists(jsonlines_base) and os.path.getsize(jsonlines_base) > 0:\n",
    "    print(\"JSONL file already exists, skipping generation\")\n",
    "else:\n",
    "    text_to_jsonlines(output_file, jsonlines_base)\n",
    "    print(\"JSONL file saved to: \", jsonlines_base)"
   ]
  }
 ],
 "metadata": {
  "kernelspec": {
   "display_name": "Python 3.11 (torch)",
   "language": "python",
   "name": "pytorch"
  },
  "language_info": {
   "codemirror_mode": {
    "name": "ipython",
    "version": 3
   },
   "file_extension": ".py",
   "mimetype": "text/x-python",
   "name": "python",
   "nbconvert_exporter": "python",
   "pygments_lexer": "ipython3",
   "version": "3.11.9"
  }
 },
 "nbformat": 4,
 "nbformat_minor": 2
}
