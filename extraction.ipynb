{
 "cells": [
  {
   "cell_type": "code",
   "execution_count": 22,
   "id": "d8cd57dd",
   "metadata": {},
   "outputs": [
    {
     "name": "stdout",
     "output_type": "stream",
     "text": [
      "[[ 1640 34754   254    64 34754   254 40940 34754   254 12501  1166 34754\n",
      "    254   261 34754   254  1169 34754   254  1102  4717 34754   254  1659\n",
      "  34754   254  1169 34754   254 10262   302  3196 34754   254 23395 34754\n",
      "    254  1169 34754   254 22030 34754   254 20012 34754   254   392 34754\n",
      "    254   896]]\n",
      "(282, 50)\n",
      "['for', 'ĠÄ', 'ł', 'a', 'ĠÄ', 'ł', 'Council', 'ĠÄ', 'ł', 'dec', 'ision', 'ĠÄ', 'ł', 'on', 'ĠÄ', 'ł', 'the', 'ĠÄ', 'ł', 'con', 'clusion', 'ĠÄ', 'ł', 'of', 'ĠÄ', 'ł', 'the', 'ĠÄ', 'ł', 'Ag', 'Ġre', 'ements', 'ĠÄ', 'ł', 'between', 'ĠÄ', 'ł', 'the', 'ĠÄ', 'ł', 'European', 'ĠÄ', 'ł', 'Community', 'ĠÄ', 'ł', 'and', 'ĠÄ', 'ł', 'its']\n",
      "Tokenized strings saved to: ./tmp/test/decoded_strings.csv\n",
      "done\n"
     ]
    }
   ],
   "source": [
    "import numpy as np\n",
    "from transformers import AutoTokenizer\n",
    "import csv\n",
    "\n",
    "tokenizer = AutoTokenizer.from_pretrained(\"EleutherAI/gpt-neo-125M\")\n",
    "\n",
    "# Specify the file path of the .npy file\n",
    "# file_path = \"tmp/test/generations/0.npy\"\n",
    "file_path = \"datasets/train_prefix.npy\"\n",
    "\n",
    "# Load the .npy file\n",
    "data = np.load(file_path)\n",
    "\n",
    "# View the first 10 entries\n",
    "print(data[:1])\n",
    "\n",
    "print(data.shape)\n",
    "\n",
    "print(tokenizer.convert_ids_to_tokens(data[0]))\n",
    "\n",
    "# Specify the file path to save the decoded strings\n",
    "output_file_path = \"./tmp/test/decoded_strings.csv\"\n",
    "\n",
    "# Open the CSV file in write mode\n",
    "with open(output_file_path, \"w\", newline='') as file:\n",
    "    writer = csv.writer(file)\n",
    "\n",
    "    # Iterate over each entry in the data numpy array\n",
    "    for ids in data:\n",
    "        # Decode the entry and replace 'Ġ' and 'ĠÄ' with ''\n",
    "        decoded_text = tokenizer.decode(ids, skip_special_tokens=True).replace('Ġ', '').replace(\"ĠÄ\", '')\n",
    "        \n",
    "        # Write the decoded text to a new row in the CSV file\n",
    "        writer.writerow([decoded_text])\n",
    "\n",
    "print(\"Tokenized strings saved to:\", output_file_path)\n",
    "\n",
    "print(\"done\")"
   ]
  },
  {
   "cell_type": "code",
   "execution_count": null,
   "id": "b4801cac",
   "metadata": {},
   "outputs": [],
   "source": []
  }
 ],
 "metadata": {
  "kernelspec": {
   "display_name": "Python 3.11 (torch)",
   "language": "python",
   "name": "pytorch"
  },
  "language_info": {
   "codemirror_mode": {
    "name": "ipython",
    "version": 3
   },
   "file_extension": ".py",
   "mimetype": "text/x-python",
   "name": "python",
   "nbconvert_exporter": "python",
   "pygments_lexer": "ipython3",
   "version": "3.11.9"
  }
 },
 "nbformat": 4,
 "nbformat_minor": 5
}
