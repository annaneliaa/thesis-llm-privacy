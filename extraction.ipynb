{
 "cells": [
  {
   "cell_type": "code",
   "execution_count": 23,
   "id": "27da69c9",
   "metadata": {},
   "outputs": [],
   "source": [
    "# imports\n",
    "import json\n",
    "import matplotlib.pyplot as plt\n",
    "import numpy as np\n",
    "import os"
   ]
  },
  {
   "cell_type": "code",
   "execution_count": 24,
   "id": "b4801cac",
   "metadata": {},
   "outputs": [],
   "source": [
    "# define experiment constants\n",
    "\n",
    "# results are saved in this directory\n",
    "ROOT_DIR = \"tmp/\"\n",
    "# the name of the experiment\n",
    "EXPERIMENT_NAME = \"test\"\n",
    "# path to the (pretraining) dataset of the model\n",
    "DATASET_DIR = \"./datasets/en/200/\"\n",
    "# file name of the tokenized version of the dataset\n",
    "DATASET_FILE = \"train_dataset.npy\"\n",
    "# number of trials to run in the experiment\n",
    "NUM_TRIALS = 10\n",
    "# language of the setup\n",
    "LANGUAGE = \"en\"\n",
    "# split of the dataset to use\n",
    "SPLIT = \"train\"\n",
    "\n",
    "# sequence parameters\n",
    "SUFFIX_LEN = 50\n",
    "PREFIX_LEN = 50\n",
    "EXAMPLE_TOKEN_LEN = 200\n",
    "PREPREFIX_LEN = 100"
   ]
  },
  {
   "cell_type": "code",
   "execution_count": 26,
   "id": "2f44939a",
   "metadata": {},
   "outputs": [],
   "source": [
    "# create config.json from constants\n",
    "config = {\n",
    "    \"root_dir\": ROOT_DIR,\n",
    "    \"experiment_name\": EXPERIMENT_NAME,\n",
    "    \"dataset_dir\": DATASET_DIR,\n",
    "    \"dataset_file\": DATASET_FILE,\n",
    "    \"num_trials\": NUM_TRIALS,\n",
    "    \"language\": LANGUAGE,\n",
    "    \"split\": SPLIT,\n",
    "    \"suffix_len\": SUFFIX_LEN,\n",
    "    \"prefix_len\": PREFIX_LEN,\n",
    "    \"example_token_len\": EXAMPLE_TOKEN_LEN,\n",
    "    \"preprefix_len\": PREPREFIX_LEN\n",
    "}\n",
    "\n",
    "with open(\"config.json\", \"w\") as f:\n",
    "    json.dump(config, f, indent=4)"
   ]
  },
  {
   "cell_type": "code",
   "execution_count": null,
   "id": "3e2cd6fb",
   "metadata": {},
   "outputs": [],
   "source": [
    "# 1. Split the examples into two parts: prefix and suffix (and preprefix)\n",
    "\n",
    "# assumption: data is prepared in jsonlines format with desired token length\n",
    "!python split_dataset.py --config_file config.json"
   ]
  },
  {
   "cell_type": "code",
   "execution_count": null,
   "id": "0a8d1820",
   "metadata": {},
   "outputs": [],
   "source": [
    "# 2. Generate model output using prefixes as prompts\n",
    "\n",
    "!python extraction.py --config_file config.json"
   ]
  },
  {
   "cell_type": "code",
   "execution_count": null,
   "id": "d5dd5080",
   "metadata": {},
   "outputs": [],
   "source": [
    "# 3. Evaluate the model output against the dataset\n",
    "!python evaluation.py --config_file config.json"
   ]
  },
  {
   "cell_type": "code",
   "execution_count": null,
   "id": "f3091607",
   "metadata": {},
   "outputs": [],
   "source": [
    "# 4. Plot distribution of scores\n",
    "\n",
    "def read_bleu_scores(file_path):\n",
    "    scores = []\n",
    "    with open(file_path, 'r', encoding='utf-8') as file:\n",
    "        for line in file:\n",
    "            data = json.loads(line)\n",
    "            scores.append(data['score'])\n",
    "    return scores\n",
    "\n",
    "def plot_bleu_distribution(scores, num_bins=10):\n",
    "    plt.figure(figsize=(10, 6))\n",
    "    \n",
    "    # Compute histogram\n",
    "    counts, bins = np.histogram(scores, bins=num_bins, range=(0, 1))\n",
    "    \n",
    "    # Plot histogram as bar chart\n",
    "    plt.bar(bins[:-1], counts, width=(bins[1] - bins[0]), edgecolor='black', align='edge')\n",
    "\n",
    "    # add a grid on image\n",
    "    plt.grid(True)\n",
    "\n",
    "    # Set titles and labels\n",
    "    plt.title('Distribution of BLEU Scores')\n",
    "    plt.xlabel('BLEU Score')\n",
    "    plt.ylabel('Frequency')\n",
    "    \n",
    "    plt.xticks(np.linspace(0, 1, num_bins + 1))\n",
    "    \n",
    "    # Show plot\n",
    "    plt.show()\n",
    "\n",
    "if __name__ == \"__main__\":\n",
    "\n",
    "    trial = 0\n",
    "    \n",
    "    # Path to the .jsonl file containing BLEU scores\n",
    "    bleu_scores_file = os.path.join(ROOT_DIR, EXPERIMENT_NAME, \"scores\", f\"bleu_scores_trial_{trial}\")\n",
    "    \n",
    "    # Read BLEU scores from the file\n",
    "    bleu_scores = read_bleu_scores(bleu_scores_file)\n",
    "    \n",
    "    # Plot the distribution of BLEU scores\n",
    "    plot_bleu_distribution(bleu_scores)"
   ]
  }
 ],
 "metadata": {
  "kernelspec": {
   "display_name": "Python 3.11 (torch)",
   "language": "python",
   "name": "pytorch"
  },
  "language_info": {
   "codemirror_mode": {
    "name": "ipython",
    "version": 3
   },
   "file_extension": ".py",
   "mimetype": "text/x-python",
   "name": "python",
   "nbconvert_exporter": "python",
   "pygments_lexer": "ipython3",
   "version": "3.11.9"
  }
 },
 "nbformat": 4,
 "nbformat_minor": 5
}
